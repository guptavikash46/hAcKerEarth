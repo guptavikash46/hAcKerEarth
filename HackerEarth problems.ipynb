{
 "cells": [
  {
   "cell_type": "code",
   "execution_count": 13,
   "metadata": {},
   "outputs": [
    {
     "name": "stdout",
     "output_type": "stream",
     "text": [
      "1 3 5 7 9 11 13 15 17 19 21 23 25 27 29 31 33 35 37 39 41 43 45 47 49 51 53 55 57 59 61 63 65 67 69 71 73 75 77 79 81 83 85 87 89 91 93 95 97 99 "
     ]
    }
   ],
   "source": [
    "#printing all odd numbers\n",
    "for i in range(1,100):\n",
    "    if i%2!=0:\n",
    "        print(i, end=' ')\n",
    "    else:\n",
    "        continue\n",
    "    \n",
    "    "
   ]
  },
  {
   "cell_type": "code",
   "execution_count": 16,
   "metadata": {},
   "outputs": [
    {
     "name": "stdout",
     "output_type": "stream",
     "text": [
      "enter the number:3\n",
      "3  x  1  =  3\n",
      "3  x  2  =  6\n",
      "3  x  3  =  9\n",
      "3  x  4  =  12\n",
      "3  x  5  =  15\n",
      "3  x  6  =  18\n",
      "3  x  7  =  21\n",
      "3  x  8  =  24\n",
      "3  x  9  =  27\n",
      "3  x  10  =  30\n"
     ]
    }
   ],
   "source": [
    "#printing table of any number\n",
    "numChoice = int(input('enter the number:'))\n",
    "for i in range(1,11):\n",
    "    print(numChoice,' x ',i,' = ',numChoice*i)\n",
    "    "
   ]
  },
  {
   "cell_type": "code",
   "execution_count": 26,
   "metadata": {},
   "outputs": [
    {
     "name": "stdout",
     "output_type": "stream",
     "text": [
      "enter the number:423452\n",
      "First Number is : 4  & the last number is : 2\n"
     ]
    }
   ],
   "source": [
    "#printing first and last digit of a number\n",
    "num = int(input('enter the number:'))\n",
    "lastNum = int(num%10)\n",
    "while True:\n",
    "    firstNum = num\n",
    "    num = int(num/10)\n",
    "    if num%10==0:\n",
    "        break \n",
    "print('First Number is :',firstNum, ' & the last number is :',lastNum)"
   ]
  },
  {
   "cell_type": "code",
   "execution_count": 1,
   "metadata": {},
   "outputs": [
    {
     "name": "stdout",
     "output_type": "stream",
     "text": [
      "enter a number:12222\n",
      "The number  1  is present  1  no. of times in the given number.\n",
      "The number  2  is present  4  no. of times in the given number.\n"
     ]
    }
   ],
   "source": [
    "#code to print frequency of a digit in a given number\n",
    "numCountList = [0,0,0,0,0,0,0,0,0,0]\n",
    "num = list()\n",
    "num = input('enter a number:')\n",
    "length = len(num)\n",
    "numCopy = int(num)\n",
    "while length>0:\n",
    "    rem = int(numCopy%10)\n",
    "    numCountList[rem]+=1\n",
    "    numCopy = int(numCopy/10)\n",
    "    length-=1\n",
    "\n",
    "for i in range(0,len(numCountList)):\n",
    "    if numCountList[i]==0:\n",
    "        continue\n",
    "    else:\n",
    "        print('The number ',i,' is present ',numCountList[i],' no. of times in the given number.')\n",
    "\n",
    "    \n"
   ]
  },
  {
   "cell_type": "code",
   "execution_count": 15,
   "metadata": {},
   "outputs": [
    {
     "name": "stdout",
     "output_type": "stream",
     "text": [
      "4\n",
      "1\n",
      "13\n",
      "36\n",
      "37\n",
      "12  WS\n",
      "24  WS\n",
      "25  WS\n",
      "48  WS\n"
     ]
    }
   ],
   "source": [
    "#Seating Arrangement HackerEarth\n",
    "testCases = int(input())\n",
    "lsSeats = []\n",
    "for i in range(testCases):\n",
    "    enterSeat = int(input())\n",
    "    lsSeats.append(enterSeat)\n",
    "\n",
    "LWS = []\n",
    "LMS = []\n",
    "LAS = []\n",
    "RAS = []\n",
    "RMS = []\n",
    "RWS = []\n",
    "\n",
    "initSeatLWS=1\n",
    "initSeatLMS=2\n",
    "initSeatLAS=3\n",
    "initSeatRAS=4\n",
    "initSeatRMS=5\n",
    "initSeatRWS=6\n",
    "\n",
    "while initSeatLWS<=108:\n",
    "    LWS.append(initSeatLWS)\n",
    "    initSeatLWS+=11\n",
    "    LWS.append(initSeatLWS)\n",
    "    initSeatLWS+=1\n",
    "    #Now LMS\n",
    "    LMS.append(initSeatLMS)\n",
    "    initSeatLMS+=9\n",
    "    LMS.append(initSeatLMS)\n",
    "    initSeatLMS+=3\n",
    "    #Now LAS\n",
    "    LAS.append(initSeatLAS)\n",
    "    initSeatLAS+=7\n",
    "    LAS.append(initSeatLAS)\n",
    "    initSeatLAS+=5\n",
    "    #Now RAS\n",
    "    RAS.append(initSeatRAS)\n",
    "    initSeatRAS+=5\n",
    "    RAS.append(initSeatRAS)\n",
    "    initSeatRAS+=7\n",
    "    #Now RMS\n",
    "    RMS.append(initSeatRMS)\n",
    "    initSeatRMS+=3\n",
    "    RMS.append(initSeatRMS)\n",
    "    initSeatRMS+=9\n",
    "    #Now RWS\n",
    "    RWS.append(initSeatRWS)\n",
    "    initSeatRWS+=1\n",
    "    RWS.append(initSeatRWS)\n",
    "    initSeatRWS+=11\n",
    "j=0\n",
    "while testCases>0:\n",
    "    for i in range(len(LWS)):\n",
    "        if lsSeats[j]==LWS[i]:\n",
    "            if lsSeats[j]%2==0:\n",
    "                lsSeats[j]-=11\n",
    "                print(lsSeats[j],' WS')\n",
    "                break\n",
    "            else:\n",
    "                lsSeats[j]+=11\n",
    "                print(lsSeats[j],' WS')\n",
    "                break\n",
    "    j+=1\n",
    "    testCases-=1"
   ]
  },
  {
   "cell_type": "code",
   "execution_count": 6,
   "metadata": {},
   "outputs": [
    {
     "name": "stdout",
     "output_type": "stream",
     "text": [
      "1\n",
      "aaaaaaaaaaaaaaaaaaaaa\n",
      "bbbbbbbbbbbbbbbbbbbbbbbbbbbbbbbbbbbbbbb\n",
      "60\n"
     ]
    }
   ],
   "source": [
    "#Anagrams\n",
    "alphabets = ['a','b','c','d','e','f','g','h','i','j','k','l','m','n','o','p','q','r','s','t','u','v','w','x','y','z']\n",
    "\n",
    "testCases = int(input())\n",
    "total = testCases\n",
    "words = []\n",
    "\n",
    "while testCases>0:\n",
    "    for i in range(2):\n",
    "        words.append(input())   \n",
    "    testCases-=1\n",
    "\n",
    "#Now actual implementation\n",
    "flag=0\n",
    "low=0\n",
    "high =1\n",
    "while total>0:\n",
    "    word1Positions = [0,0,0,0,0,0,0,0,0,0,0,0,0,0,0,0,0,0,0,0,0,0,0,0,0,0]\n",
    "    word2Positions = [0,0,0,0,0,0,0,0,0,0,0,0,0,0,0,0,0,0,0,0,0,0,0,0,0,0]\n",
    "    \n",
    "    for x in words[low]:\n",
    "        index = alphabets.index(x)\n",
    "        word1Positions[index]+=1\n",
    "    \n",
    "    for y in words[high]:\n",
    "        index = alphabets.index(y)\n",
    "        word2Positions[index]+=1\n",
    "        \n",
    "    for a,b in zip(word1Positions, word2Positions):\n",
    "        \n",
    "        if a==0 and b==0:\n",
    "            continue\n",
    "        elif a!=b:\n",
    "            diff = a-b\n",
    "            if diff<0:\n",
    "                diff = int(diff*-1)\n",
    "            flag+=diff\n",
    "        else:\n",
    "            continue\n",
    "            \n",
    "    print(flag)\n",
    "    flag=0\n",
    "    low+=2\n",
    "    high+=2\n",
    "    total-=1\n",
    "    \n",
    "\n",
    "\n"
   ]
  },
  {
   "cell_type": "code",
   "execution_count": 18,
   "metadata": {
    "scrolled": true
   },
   "outputs": [
    {
     "name": "stdout",
     "output_type": "stream",
     "text": [
      "43210"
     ]
    }
   ],
   "source": [
    "4938532874755542\n",
    "\n",
    "49 38 53 28 74 75 5 54\n",
    "    "
   ]
  },
  {
   "cell_type": "code",
   "execution_count": 2,
   "metadata": {},
   "outputs": [
    {
     "name": "stdout",
     "output_type": "stream",
     "text": [
      "17 87\n"
     ]
    }
   ],
   "source": [
    "s1 = 'sssssssssssssssss'\n",
    "s2 ='sssssssssssssssssssssssssssssssssssssssssssssssssssssssssssssssssssssssssssssssssssssss'\n",
    "print(len(s1), len(s2))"
   ]
  }
 ],
 "metadata": {
  "kernelspec": {
   "display_name": "Python 3",
   "language": "python",
   "name": "python3"
  },
  "language_info": {
   "codemirror_mode": {
    "name": "ipython",
    "version": 3
   },
   "file_extension": ".py",
   "mimetype": "text/x-python",
   "name": "python",
   "nbconvert_exporter": "python",
   "pygments_lexer": "ipython3",
   "version": "3.7.0"
  }
 },
 "nbformat": 4,
 "nbformat_minor": 2
}
