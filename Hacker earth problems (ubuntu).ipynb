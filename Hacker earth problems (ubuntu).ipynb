{
 "cells": [
  {
   "cell_type": "code",
   "execution_count": 7,
   "metadata": {},
   "outputs": [
    {
     "name": "stdout",
     "output_type": "stream",
     "text": [
      "12345\n",
      "[5, 4, 3, 2, 1][1, 2, 3, 4, 5]1 23 45 4 23 55 "
     ]
    },
    {
     "ename": "IndexError",
     "evalue": "list index out of range",
     "output_type": "error",
     "traceback": [
      "\u001b[0;31m---------------------------------------------------------------------------\u001b[0m",
      "\u001b[0;31mIndexError\u001b[0m                                Traceback (most recent call last)",
      "\u001b[0;32m<ipython-input-7-eb33c0d49526>\u001b[0m in \u001b[0;36m<module>\u001b[0;34m\u001b[0m\n\u001b[1;32m     58\u001b[0m         \u001b[0;32mfor\u001b[0m \u001b[0mx\u001b[0m\u001b[0;34m,\u001b[0m\u001b[0my\u001b[0m \u001b[0;32min\u001b[0m \u001b[0mzip\u001b[0m\u001b[0;34m(\u001b[0m\u001b[0mrange\u001b[0m\u001b[0;34m(\u001b[0m\u001b[0;36m0\u001b[0m\u001b[0;34m,\u001b[0m\u001b[0miterations\u001b[0m\u001b[0;34m,\u001b[0m\u001b[0;36m2\u001b[0m\u001b[0;34m)\u001b[0m\u001b[0;34m,\u001b[0m\u001b[0mrange\u001b[0m\u001b[0;34m(\u001b[0m\u001b[0;36m1\u001b[0m\u001b[0;34m,\u001b[0m\u001b[0mlength\u001b[0m\u001b[0;34m,\u001b[0m\u001b[0;36m2\u001b[0m\u001b[0;34m)\u001b[0m\u001b[0;34m)\u001b[0m\u001b[0;34m:\u001b[0m\u001b[0;34m\u001b[0m\u001b[0;34m\u001b[0m\u001b[0m\n\u001b[1;32m     59\u001b[0m             \u001b[0mNum\u001b[0m \u001b[0;34m=\u001b[0m \u001b[0mint\u001b[0m\u001b[0;34m(\u001b[0m\u001b[0mnewList\u001b[0m\u001b[0;34m[\u001b[0m\u001b[0mx\u001b[0m\u001b[0;34m]\u001b[0m\u001b[0;34m*\u001b[0m\u001b[0;36m10\u001b[0m \u001b[0;34m+\u001b[0m \u001b[0mnewList\u001b[0m\u001b[0;34m[\u001b[0m\u001b[0my\u001b[0m\u001b[0;34m]\u001b[0m\u001b[0;34m)\u001b[0m\u001b[0;34m\u001b[0m\u001b[0;34m\u001b[0m\u001b[0m\n\u001b[0;32m---> 60\u001b[0;31m             \u001b[0;32mif\u001b[0m \u001b[0;34m(\u001b[0m\u001b[0mls\u001b[0m\u001b[0;34m[\u001b[0m\u001b[0mcount\u001b[0m\u001b[0;34m]\u001b[0m\u001b[0;34m!=\u001b[0m\u001b[0mNum\u001b[0m\u001b[0;34m)\u001b[0m \u001b[0;32mand\u001b[0m \u001b[0;34m(\u001b[0m\u001b[0mNum\u001b[0m\u001b[0;34m>\u001b[0m\u001b[0;36m1\u001b[0m \u001b[0;32mand\u001b[0m \u001b[0mNum\u001b[0m\u001b[0;34m<\u001b[0m\u001b[0;36m80\u001b[0m\u001b[0;34m)\u001b[0m\u001b[0;34m:\u001b[0m\u001b[0;34m\u001b[0m\u001b[0;34m\u001b[0m\u001b[0m\n\u001b[0m\u001b[1;32m     61\u001b[0m                 \u001b[0mls\u001b[0m\u001b[0;34m.\u001b[0m\u001b[0mappend\u001b[0m\u001b[0;34m(\u001b[0m\u001b[0mNum\u001b[0m\u001b[0;34m)\u001b[0m\u001b[0;34m\u001b[0m\u001b[0;34m\u001b[0m\u001b[0m\n\u001b[1;32m     62\u001b[0m             \u001b[0;32melse\u001b[0m\u001b[0;34m:\u001b[0m\u001b[0;34m\u001b[0m\u001b[0;34m\u001b[0m\u001b[0m\n",
      "\u001b[0;31mIndexError\u001b[0m: list index out of range"
     ]
    }
   ],
   "source": [
    "#Magic string\n",
    "enterString = int(input())\n",
    "ls = []\n",
    "num = enterString\n",
    "while num>0:\n",
    "    rem = num%10\n",
    "    ls.append(rem)\n",
    "    num = int(num/10)\n",
    "print(ls, end='')\n",
    "temp=[]\n",
    "for x in reversed(ls):\n",
    "    temp.append(x)\n",
    "\n",
    "print(temp, end='')\n",
    "\n",
    "lengthStr = len(ls)\n",
    "checkValue=1\n",
    "#first single digit\n",
    "digitLs = []\n",
    "if lengthStr%2==0:\n",
    "    for x in range(lengthStr):\n",
    "        y = x+1\n",
    "        if temp[x]!=temp[y] and temp[x]>0:\n",
    "            digitLs.append(temp[x])\n",
    "        else:\n",
    "            print('N/A')\n",
    "            checkValue=0\n",
    "            break\n",
    "        if y==lengthStr-1:\n",
    "            if (temp[x]!=temp[y]) and (temp[x]>0 and temp[y]>0):\n",
    "                digitLs.append(temp[y])\n",
    "                break\n",
    "            else:\n",
    "                print('N/A')\n",
    "                checkValue=0\n",
    "                break\n",
    "                \n",
    "if checkValue!=0:\n",
    "    for j in digitLs:\n",
    "        print('{0} '.format(j), end='')\n",
    "\n",
    "pos = 0\n",
    "itrNew = int((length/2) +1)\n",
    "checkValue =1\n",
    "#two digits now\n",
    "if lengthStr%2!=0:\n",
    "    while itrNew>=0:\n",
    "        ls =[]\n",
    "        count =0\n",
    "        newList = temp\n",
    "        length = len(newList)\n",
    "        iterations = int(length-1)\n",
    "        for a in range(pos,iterations):\n",
    "            if a==pos:\n",
    "                ls.append(temp[a])\n",
    "            newList[a] = newList[a+1]\n",
    "    \n",
    "        for x,y in zip(range(0,iterations,2),range(1,iterations,2)):\n",
    "            Num = int(newList[x]*10 + newList[y])\n",
    "            if (ls[count]!=Num) and (Num>1 and Num<80):\n",
    "                ls.append(Num)\n",
    "            else:\n",
    "                print('N/A')\n",
    "                checkValue=0\n",
    "                break\n",
    "            count+=1\n",
    "                \n",
    "        #now printing\n",
    "        if checkValue==0:\n",
    "            break\n",
    "        else:\n",
    "            for i in ls:\n",
    "                print('{0} '.format(i),end='')\n",
    "            \n",
    "        pos+=2\n",
    "    itrNew-=1\n"
   ]
  },
  {
   "cell_type": "code",
   "execution_count": 20,
   "metadata": {},
   "outputs": [
    {
     "name": "stdout",
     "output_type": "stream",
     "text": [
      "123456\n",
      "[6, 5, 4, 3, 2, 1][1, 2, 3, 4, 5, 6]1 2 3 4 5 "
     ]
    },
    {
     "ename": "IndexError",
     "evalue": "list index out of range",
     "output_type": "error",
     "traceback": [
      "\u001b[0;31m---------------------------------------------------------------------------\u001b[0m",
      "\u001b[0;31mIndexError\u001b[0m                                Traceback (most recent call last)",
      "\u001b[0;32m<ipython-input-20-850fbd15efc8>\u001b[0m in \u001b[0;36m<module>\u001b[0;34m\u001b[0m\n\u001b[1;32m     19\u001b[0m     \u001b[0;32mfor\u001b[0m \u001b[0mx\u001b[0m \u001b[0;32min\u001b[0m \u001b[0mrange\u001b[0m\u001b[0;34m(\u001b[0m\u001b[0mlengthStr\u001b[0m\u001b[0;34m)\u001b[0m\u001b[0;34m:\u001b[0m\u001b[0;34m\u001b[0m\u001b[0;34m\u001b[0m\u001b[0m\n\u001b[1;32m     20\u001b[0m         \u001b[0my\u001b[0m \u001b[0;34m=\u001b[0m \u001b[0mx\u001b[0m\u001b[0;34m+\u001b[0m\u001b[0;36m1\u001b[0m\u001b[0;34m\u001b[0m\u001b[0;34m\u001b[0m\u001b[0m\n\u001b[0;32m---> 21\u001b[0;31m         \u001b[0;32mif\u001b[0m \u001b[0mtemp\u001b[0m\u001b[0;34m[\u001b[0m\u001b[0mx\u001b[0m\u001b[0;34m]\u001b[0m\u001b[0;34m!=\u001b[0m\u001b[0mtemp\u001b[0m\u001b[0;34m[\u001b[0m\u001b[0my\u001b[0m\u001b[0;34m]\u001b[0m \u001b[0;32mand\u001b[0m \u001b[0mtemp\u001b[0m\u001b[0;34m[\u001b[0m\u001b[0mx\u001b[0m\u001b[0;34m]\u001b[0m\u001b[0;34m>\u001b[0m\u001b[0;36m0\u001b[0m\u001b[0;34m:\u001b[0m\u001b[0;34m\u001b[0m\u001b[0;34m\u001b[0m\u001b[0m\n\u001b[0m\u001b[1;32m     22\u001b[0m             \u001b[0mprint\u001b[0m\u001b[0;34m(\u001b[0m\u001b[0mtemp\u001b[0m\u001b[0;34m[\u001b[0m\u001b[0mx\u001b[0m\u001b[0;34m]\u001b[0m\u001b[0;34m,\u001b[0m \u001b[0mend\u001b[0m\u001b[0;34m=\u001b[0m\u001b[0;34m' '\u001b[0m\u001b[0;34m)\u001b[0m\u001b[0;34m\u001b[0m\u001b[0;34m\u001b[0m\u001b[0m\n\u001b[1;32m     23\u001b[0m         \u001b[0;32melse\u001b[0m\u001b[0;34m:\u001b[0m\u001b[0;34m\u001b[0m\u001b[0;34m\u001b[0m\u001b[0m\n",
      "\u001b[0;31mIndexError\u001b[0m: list index out of range"
     ]
    }
   ],
   "source": [
    "for a in range(pos,iterations):\n",
    "    if a==pos:\n",
    "        digit = temp[pos]\n",
    "    temp[a] = temp[a+1]\n",
    "    \n",
    "for x,y in zip(range(0,iterations,2),range(1,len(lengthStr),2)):\n",
    "    if x==pos:\n",
    "        ls.append(temp[pos])\n",
    "        pos+=2\n",
    "    else:\n",
    "        p=x-1\n",
    "        q=y-1\n",
    "        previousNum = int(temp[p]*10 + temp[q])\n",
    "        if (p!=x or q!=y ) and (previousNum>1 and previousNum<80):\n",
    "            ls.append(previousNum)\n",
    "        else:\n",
    "            print('Redundancy found or num did not meet the criteria.')\n",
    "            break\n",
    "\n",
    "#now printing\n",
    "for i in ls:\n",
    "    print('{0} '.format(i),end='')\n",
    "\n",
    "    "
   ]
  },
  {
   "cell_type": "code",
   "execution_count": 21,
   "metadata": {},
   "outputs": [
    {
     "name": "stdout",
     "output_type": "stream",
     "text": [
      "12 34 56 78 "
     ]
    }
   ],
   "source": [
    "ls = [1,2,3,4,5,6,7,8]\n",
    "for x,y in zip(range(0,len(ls)-1,2),range(1,len(ls),2)):\n",
    "    print('{0}{1} '.format(ls[x],ls[y]),end='')"
   ]
  },
  {
   "cell_type": "code",
   "execution_count": 1,
   "metadata": {},
   "outputs": [
    {
     "name": "stdout",
     "output_type": "stream",
     "text": [
      "1\n",
      "cde\n",
      "abc\n",
      "4\n"
     ]
    }
   ],
   "source": [
    "#Anagrams\n",
    "alphabets = ['a','b','c','d','e','f','g','h','i','j','k','l','m','n','o','p','q','r','s','t','u','v','w','x','y','z']\n",
    "\n",
    "testCases = int(input())\n",
    "total = testCases\n",
    "words = []\n",
    "\n",
    "while testCases>0:\n",
    "    for i in range(2):\n",
    "        words.append(input())   \n",
    "    testCases-=1\n",
    "\n",
    "#Now actual implementation\n",
    "flag=0\n",
    "low=0\n",
    "high =1\n",
    "while total>0:\n",
    "    word1Positions = [0,0,0,0,0,0,0,0,0,0,0,0,0,0,0,0,0,0,0,0,0,0,0,0,0,0]\n",
    "    word2Positions = [0,0,0,0,0,0,0,0,0,0,0,0,0,0,0,0,0,0,0,0,0,0,0,0,0,0]\n",
    "    \n",
    "    for x in words[low]:\n",
    "        index = alphabets.index(x)\n",
    "        word1Positions[index]+=1\n",
    "    \n",
    "    for y in words[high]:\n",
    "        index = alphabets.index(y)\n",
    "        word2Positions[index]+=1\n",
    "        \n",
    "    for a,b in zip(word1Positions, word2Positions):\n",
    "        \n",
    "        if a==0 and b==0:\n",
    "            continue\n",
    "        elif a!=b:\n",
    "            diff = a-b\n",
    "            if diff<0:\n",
    "                diff = int(diff*-1)\n",
    "            flag+=diff\n",
    "        else:\n",
    "            continue\n",
    "            \n",
    "    print(flag)\n",
    "    flag=0\n",
    "    low+=2\n",
    "    high+=2\n",
    "    total-=1"
   ]
  },
  {
   "cell_type": "code",
   "execution_count": 13,
   "metadata": {},
   "outputs": [
    {
     "name": "stdout",
     "output_type": "stream",
     "text": [
      "NO\n"
     ]
    }
   ],
   "source": [
    "#palindrome string\n",
    "ls = ['a','b','a']\n",
    "ls2 = ['a','v','a']\n",
    "if ls == ls2:\n",
    "    print('YES')\n",
    "else:\n",
    "    print('NO')"
   ]
  },
  {
   "cell_type": "code",
   "execution_count": 10,
   "metadata": {},
   "outputs": [
    {
     "data": {
      "text/plain": [
       "25"
      ]
     },
     "execution_count": 10,
     "metadata": {},
     "output_type": "execute_result"
    }
   ],
   "source": [
    "5**2"
   ]
  },
  {
   "cell_type": "code",
   "execution_count": 10,
   "metadata": {},
   "outputs": [
    {
     "name": "stdout",
     "output_type": "stream",
     "text": [
      "enter a word: zz\n",
      "cccccccccccccccccccccccccc"
     ]
    },
    {
     "ename": "IndexError",
     "evalue": "list index out of range",
     "output_type": "error",
     "traceback": [
      "\u001b[0;31m---------------------------------------------------------------------------\u001b[0m",
      "\u001b[0;31mIndexError\u001b[0m                                Traceback (most recent call last)",
      "\u001b[0;32m<ipython-input-10-238383720eb9>\u001b[0m in \u001b[0;36m<module>\u001b[0;34m\u001b[0m\n\u001b[1;32m     11\u001b[0m             \u001b[0mprint\u001b[0m\u001b[0;34m(\u001b[0m\u001b[0;34m'c'\u001b[0m\u001b[0;34m,\u001b[0m\u001b[0mend\u001b[0m\u001b[0;34m=\u001b[0m\u001b[0;34m''\u001b[0m\u001b[0;34m)\u001b[0m\u001b[0;34m\u001b[0m\u001b[0;34m\u001b[0m\u001b[0m\n\u001b[1;32m     12\u001b[0m         \u001b[0;32mif\u001b[0m \u001b[0malpha\u001b[0m\u001b[0;34m[\u001b[0m\u001b[0my\u001b[0m\u001b[0;34m]\u001b[0m\u001b[0;34m==\u001b[0m\u001b[0mls\u001b[0m\u001b[0;34m[\u001b[0m\u001b[0mx\u001b[0m\u001b[0;34m]\u001b[0m\u001b[0;34m:\u001b[0m\u001b[0;34m\u001b[0m\u001b[0;34m\u001b[0m\u001b[0m\n\u001b[0;32m---> 13\u001b[0;31m             \u001b[0mprint\u001b[0m\u001b[0;34m(\u001b[0m\u001b[0malpha\u001b[0m\u001b[0;34m[\u001b[0m\u001b[0my\u001b[0m\u001b[0;34m+\u001b[0m\u001b[0;36m3\u001b[0m\u001b[0;34m]\u001b[0m\u001b[0;34m,\u001b[0m\u001b[0mend\u001b[0m\u001b[0;34m=\u001b[0m\u001b[0;34m''\u001b[0m\u001b[0;34m)\u001b[0m\u001b[0;34m\u001b[0m\u001b[0;34m\u001b[0m\u001b[0m\n\u001b[0m\u001b[1;32m     14\u001b[0m \u001b[0;34m\u001b[0m\u001b[0m\n",
      "\u001b[0;31mIndexError\u001b[0m: list index out of range"
     ]
    }
   ],
   "source": [
    "alpha = ['a','b','c','d','e','f','g','h','i','j','k','l','m','n','o','p','q','r','s','t','u','v','w','x','y','z']\n",
    "enterWord = input('enter a word: ')\n",
    "ls = list(enterWord)\n",
    "for x in range(len(ls)):\n",
    "    for y in range(len(alpha)):\n",
    "       \n",
    "        "
   ]
  }
 ],
 "metadata": {
  "kernelspec": {
   "display_name": "Python 3",
   "language": "python",
   "name": "python3"
  },
  "language_info": {
   "codemirror_mode": {
    "name": "ipython",
    "version": 3
   },
   "file_extension": ".py",
   "mimetype": "text/x-python",
   "name": "python",
   "nbconvert_exporter": "python",
   "pygments_lexer": "ipython3",
   "version": "3.7.0"
  }
 },
 "nbformat": 4,
 "nbformat_minor": 2
}
