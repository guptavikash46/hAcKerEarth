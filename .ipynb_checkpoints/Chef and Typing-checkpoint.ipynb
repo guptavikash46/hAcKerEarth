{
 "cells": [
  {
   "cell_type": "code",
   "execution_count": 5,
   "metadata": {},
   "outputs": [
    {
     "name": "stdout",
     "output_type": "stream",
     "text": [
      "1\n",
      "2\n",
      "vikas\n",
      "jana\n",
      "['jana']\n"
     ]
    }
   ],
   "source": [
    "testCases = int(input())\n",
    "NumOfWords = int(input())\n",
    "\n",
    "words =[]\n",
    "\n",
    "while True:\n",
    "    for i in range(0, NumOfWords):\n",
    "        check = input()\n",
    "        words = check.split()\n",
    "    \n",
    "    testCases = testCases -1\n",
    "    if testCases<1:\n",
    "        break\n",
    "\n",
    "print(words)"
   ]
  },
  {
   "cell_type": "code",
   "execution_count": 11,
   "metadata": {},
   "outputs": [
    {
     "name": "stdout",
     "output_type": "stream",
     "text": [
      "enter the number of words3\n",
      "enter the wordsgjlh\n",
      "enter the wordshkhub\n",
      "['hkhub']\n"
     ]
    }
   ],
   "source": [
    "num = int(input('enter the number of words'))\n",
    "num = num-1\n",
    "words = list()\n",
    "for i in range(0,num):\n",
    "    words = input('enter the words')\n",
    "\n",
    "print(words)"
   ]
  },
  {
   "cell_type": "code",
   "execution_count": 16,
   "metadata": {},
   "outputs": [
    {
     "ename": "IndexError",
     "evalue": "list index out of range",
     "output_type": "error",
     "traceback": [
      "\u001b[1;31m---------------------------------------------------------------------------\u001b[0m",
      "\u001b[1;31mIndexError\u001b[0m                                Traceback (most recent call last)",
      "\u001b[1;32m<ipython-input-16-4512fc4353e6>\u001b[0m in \u001b[0;36m<module>\u001b[1;34m()\u001b[0m\n\u001b[1;32m----> 1\u001b[1;33m \u001b[0mprint\u001b[0m\u001b[1;33m(\u001b[0m\u001b[0mwords\u001b[0m\u001b[1;33m[\u001b[0m\u001b[1;36m1\u001b[0m\u001b[1;33m]\u001b[0m\u001b[1;33m)\u001b[0m\u001b[1;33m\u001b[0m\u001b[0m\n\u001b[0m",
      "\u001b[1;31mIndexError\u001b[0m: list index out of range"
     ]
    }
   ],
   "source": []
  }
 ],
 "metadata": {
  "kernelspec": {
   "display_name": "Python 3",
   "language": "python",
   "name": "python3"
  },
  "language_info": {
   "codemirror_mode": {
    "name": "ipython",
    "version": 3
   },
   "file_extension": ".py",
   "mimetype": "text/x-python",
   "name": "python",
   "nbconvert_exporter": "python",
   "pygments_lexer": "ipython3",
   "version": "3.7.0"
  }
 },
 "nbformat": 4,
 "nbformat_minor": 2
}
