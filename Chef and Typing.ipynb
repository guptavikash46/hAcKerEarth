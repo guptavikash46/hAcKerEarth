{
 "cells": [
  {
   "cell_type": "code",
   "execution_count": 5,
   "metadata": {},
   "outputs": [
    {
     "name": "stdout",
     "output_type": "stream",
     "text": [
      "1\n",
      "2\n",
      "vikas\n",
      "jana\n",
      "['jana']\n"
     ]
    }
   ],
   "source": [
    "testCases = int(input())\n",
    "NumOfWords = int(input())\n",
    "\n",
    "words =[]\n",
    "\n",
    "while True:\n",
    "    for i in range(0, NumOfWords):\n",
    "        check = input()\n",
    "        words = check.split()\n",
    "    \n",
    "    testCases = testCases -1\n",
    "    if testCases<1:\n",
    "        break\n",
    "\n",
    "print(words)"
   ]
  },
  {
   "cell_type": "code",
   "execution_count": 12,
   "metadata": {},
   "outputs": [
    {
     "name": "stdout",
     "output_type": "stream",
     "text": [
      "enter the number of words3\n",
      "enter the wordsvikas\n",
      "enter the wordsjana\n",
      "jana\n"
     ]
    }
   ],
   "source": [
    "num = int(input('enter the number of words'))\n",
    "num = num-1\n",
    "words = list()\n",
    "for i in range(0,num):\n",
    "    words = input('enter the words')\n",
    "\n",
    "print(words)"
   ]
  },
  {
   "cell_type": "code",
   "execution_count": 13,
   "metadata": {},
   "outputs": [
    {
     "data": {
      "text/plain": [
       "'jana'"
      ]
     },
     "execution_count": 13,
     "metadata": {},
     "output_type": "execute_result"
    }
   ],
   "source": [
    "words\n"
   ]
  }
 ],
 "metadata": {
  "kernelspec": {
   "display_name": "Python 3",
   "language": "python",
   "name": "python3"
  },
  "language_info": {
   "codemirror_mode": {
    "name": "ipython",
    "version": 3
   },
   "file_extension": ".py",
   "mimetype": "text/x-python",
   "name": "python",
   "nbconvert_exporter": "python",
   "pygments_lexer": "ipython3",
   "version": "3.7.0"
  }
 },
 "nbformat": 4,
 "nbformat_minor": 2
}
